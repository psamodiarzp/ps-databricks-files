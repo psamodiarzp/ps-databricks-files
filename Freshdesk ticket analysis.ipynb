{
 "cells": [
  {
   "cell_type": "code",
   "execution_count": 0,
   "metadata": {
    "application/vnd.databricks.v1+cell": {
     "cellMetadata": {
      "byteLimit": 2048000,
      "implicitDf": true,
      "rowLimit": 10000
     },
     "inputWidgets": {},
     "nuid": "53119b4a-6b73-4186-8f61-8782a6e7fcdb",
     "showTitle": false,
     "tableResultSettingsMap": {},
     "title": ""
    }
   },
   "outputs": [],
   "source": [
    "%sql\n",
    "select \n",
    "\n",
    "fd.category, fd.subcategory, fd.source, d.description_text \n",
    "from whs_agg_v.freshdesk_base1 fd\n",
    "left join dbt_prod_freshdesk.tickets d on fd.ticket_id = cast(d.id as string)\n",
    "where update_rank = 1\n",
    "and merged_status = 'unmerged'\n",
    "and support_autoclose_duplicate_ticket = 'No'\n",
    "and (category like '%checkout%' \n",
    "     or category like '%Checkout%'\n",
    "    or category like '%magic%')\n",
    " and category like 'TS%'\n",
    " and fd.source in ('Email','Portal')\n",
    " and fd.created_date >= date('2024-01-01')"
   ]
  },
  {
   "cell_type": "code",
   "execution_count": 0,
   "metadata": {
    "application/vnd.databricks.v1+cell": {
     "cellMetadata": {},
     "inputWidgets": {},
     "nuid": "86a12041-5042-4b2b-96d6-b0d53e3b1224",
     "showTitle": false,
     "tableResultSettingsMap": {},
     "title": ""
    }
   },
   "outputs": [],
   "source": []
  }
 ],
 "metadata": {
  "application/vnd.databricks.v1+notebook": {
   "computePreferences": null,
   "dashboards": [],
   "environmentMetadata": {
    "base_environment": "",
    "environment_version": "2"
   },
   "language": "python",
   "notebookMetadata": {
    "mostRecentlyExecutedCommandWithImplicitDF": {
     "commandId": 5092797239565449,
     "dataframes": [
      "_sqldf"
     ]
    },
    "pythonIndentUnit": 4
   },
   "notebookName": "Freshdesk ticket analysis",
   "widgets": {}
  },
  "language_info": {
   "name": "python"
  }
 },
 "nbformat": 4,
 "nbformat_minor": 0
}
